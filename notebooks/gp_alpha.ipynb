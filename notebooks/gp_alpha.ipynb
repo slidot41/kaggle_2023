{
 "cells": [
  {
   "cell_type": "code",
   "execution_count": 1,
   "metadata": {},
   "outputs": [],
   "source": [
    "from gplearn import genetic, functions, fitness\n",
    "from gplearn.genetic import SymbolicRegressor, SymbolicTransformer\n",
    "\n",
    "import numpy as np\n",
    "import pandas as pd\n",
    "import sympy\n",
    "\n",
    "import warnings \n",
    "warnings.filterwarnings(\"ignore\", category=RuntimeWarning)"
   ]
  },
  {
   "cell_type": "code",
   "execution_count": 2,
   "metadata": {},
   "outputs": [
    {
     "data": {
      "text/html": [
       "<div>\n",
       "<style scoped>\n",
       "    .dataframe tbody tr th:only-of-type {\n",
       "        vertical-align: middle;\n",
       "    }\n",
       "\n",
       "    .dataframe tbody tr th {\n",
       "        vertical-align: top;\n",
       "    }\n",
       "\n",
       "    .dataframe thead th {\n",
       "        text-align: right;\n",
       "    }\n",
       "</style>\n",
       "<table border=\"1\" class=\"dataframe\">\n",
       "  <thead>\n",
       "    <tr style=\"text-align: right;\">\n",
       "      <th></th>\n",
       "      <th>stock_id</th>\n",
       "      <th>date_id</th>\n",
       "      <th>seconds_in_bucket</th>\n",
       "      <th>imbalance_size</th>\n",
       "      <th>imbalance_buy_sell_flag</th>\n",
       "      <th>reference_price</th>\n",
       "      <th>matched_size</th>\n",
       "      <th>far_price</th>\n",
       "      <th>near_price</th>\n",
       "      <th>bid_price</th>\n",
       "      <th>bid_size</th>\n",
       "      <th>ask_price</th>\n",
       "      <th>ask_size</th>\n",
       "      <th>wap</th>\n",
       "      <th>target</th>\n",
       "      <th>time_id</th>\n",
       "      <th>row_id</th>\n",
       "    </tr>\n",
       "  </thead>\n",
       "  <tbody>\n",
       "    <tr>\n",
       "      <th>0</th>\n",
       "      <td>0</td>\n",
       "      <td>0</td>\n",
       "      <td>0</td>\n",
       "      <td>3180602.69</td>\n",
       "      <td>1</td>\n",
       "      <td>0.999812</td>\n",
       "      <td>13380276.64</td>\n",
       "      <td>0.0</td>\n",
       "      <td>0.0</td>\n",
       "      <td>0.999812</td>\n",
       "      <td>60651.50</td>\n",
       "      <td>1.000026</td>\n",
       "      <td>8493.03</td>\n",
       "      <td>1.0</td>\n",
       "      <td>-3.029704</td>\n",
       "      <td>0</td>\n",
       "      <td>0_0_0</td>\n",
       "    </tr>\n",
       "    <tr>\n",
       "      <th>1</th>\n",
       "      <td>1</td>\n",
       "      <td>0</td>\n",
       "      <td>0</td>\n",
       "      <td>166603.91</td>\n",
       "      <td>-1</td>\n",
       "      <td>0.999896</td>\n",
       "      <td>1642214.25</td>\n",
       "      <td>0.0</td>\n",
       "      <td>0.0</td>\n",
       "      <td>0.999896</td>\n",
       "      <td>3233.04</td>\n",
       "      <td>1.000660</td>\n",
       "      <td>20605.09</td>\n",
       "      <td>1.0</td>\n",
       "      <td>-5.519986</td>\n",
       "      <td>0</td>\n",
       "      <td>0_0_1</td>\n",
       "    </tr>\n",
       "    <tr>\n",
       "      <th>2</th>\n",
       "      <td>2</td>\n",
       "      <td>0</td>\n",
       "      <td>0</td>\n",
       "      <td>302879.87</td>\n",
       "      <td>-1</td>\n",
       "      <td>0.999561</td>\n",
       "      <td>1819368.03</td>\n",
       "      <td>0.0</td>\n",
       "      <td>0.0</td>\n",
       "      <td>0.999403</td>\n",
       "      <td>37956.00</td>\n",
       "      <td>1.000298</td>\n",
       "      <td>18995.00</td>\n",
       "      <td>1.0</td>\n",
       "      <td>-8.389950</td>\n",
       "      <td>0</td>\n",
       "      <td>0_0_2</td>\n",
       "    </tr>\n",
       "    <tr>\n",
       "      <th>3</th>\n",
       "      <td>3</td>\n",
       "      <td>0</td>\n",
       "      <td>0</td>\n",
       "      <td>11917682.27</td>\n",
       "      <td>-1</td>\n",
       "      <td>1.000171</td>\n",
       "      <td>18389745.62</td>\n",
       "      <td>0.0</td>\n",
       "      <td>0.0</td>\n",
       "      <td>0.999999</td>\n",
       "      <td>2324.90</td>\n",
       "      <td>1.000214</td>\n",
       "      <td>479032.40</td>\n",
       "      <td>1.0</td>\n",
       "      <td>-4.010200</td>\n",
       "      <td>0</td>\n",
       "      <td>0_0_3</td>\n",
       "    </tr>\n",
       "    <tr>\n",
       "      <th>4</th>\n",
       "      <td>4</td>\n",
       "      <td>0</td>\n",
       "      <td>0</td>\n",
       "      <td>447549.96</td>\n",
       "      <td>-1</td>\n",
       "      <td>0.999532</td>\n",
       "      <td>17860614.95</td>\n",
       "      <td>0.0</td>\n",
       "      <td>0.0</td>\n",
       "      <td>0.999394</td>\n",
       "      <td>16485.54</td>\n",
       "      <td>1.000016</td>\n",
       "      <td>434.10</td>\n",
       "      <td>1.0</td>\n",
       "      <td>-7.349849</td>\n",
       "      <td>0</td>\n",
       "      <td>0_0_4</td>\n",
       "    </tr>\n",
       "  </tbody>\n",
       "</table>\n",
       "</div>"
      ],
      "text/plain": [
       "   stock_id  date_id  seconds_in_bucket  imbalance_size  \\\n",
       "0         0        0                  0      3180602.69   \n",
       "1         1        0                  0       166603.91   \n",
       "2         2        0                  0       302879.87   \n",
       "3         3        0                  0     11917682.27   \n",
       "4         4        0                  0       447549.96   \n",
       "\n",
       "   imbalance_buy_sell_flag  reference_price  matched_size  far_price  \\\n",
       "0                        1         0.999812   13380276.64        0.0   \n",
       "1                       -1         0.999896    1642214.25        0.0   \n",
       "2                       -1         0.999561    1819368.03        0.0   \n",
       "3                       -1         1.000171   18389745.62        0.0   \n",
       "4                       -1         0.999532   17860614.95        0.0   \n",
       "\n",
       "   near_price  bid_price  bid_size  ask_price   ask_size  wap    target  \\\n",
       "0         0.0   0.999812  60651.50   1.000026    8493.03  1.0 -3.029704   \n",
       "1         0.0   0.999896   3233.04   1.000660   20605.09  1.0 -5.519986   \n",
       "2         0.0   0.999403  37956.00   1.000298   18995.00  1.0 -8.389950   \n",
       "3         0.0   0.999999   2324.90   1.000214  479032.40  1.0 -4.010200   \n",
       "4         0.0   0.999394  16485.54   1.000016     434.10  1.0 -7.349849   \n",
       "\n",
       "   time_id row_id  \n",
       "0        0  0_0_0  \n",
       "1        0  0_0_1  \n",
       "2        0  0_0_2  \n",
       "3        0  0_0_3  \n",
       "4        0  0_0_4  "
      ]
     },
     "execution_count": 2,
     "metadata": {},
     "output_type": "execute_result"
    }
   ],
   "source": [
    "csv_file = '/Users/shiyili/projects/kaggle/train.csv'\n",
    "\n",
    "df = pd.read_csv(csv_file, nrows=10000)\n",
    "df = df[~df['target'].isnull()] # remove rows with no target\n",
    "\n",
    "df['far_price'] = df['far_price'].fillna(0)\n",
    "df['near_price'] = df['near_price'].fillna(0)\n",
    "\n",
    "# check if there is any null value in each col \n",
    "# print(\"Null values\", df.isnull().sum())\n",
    "x_train = df[[col for col in df.columns if col not in ['target', 'row_id']]].values\n",
    "y_train = df['target'].values\n",
    "\n",
    "df.head()"
   ]
  },
  {
   "cell_type": "code",
   "execution_count": 3,
   "metadata": {},
   "outputs": [
    {
     "data": {
      "text/plain": [
       "((10000, 15), (10000,))"
      ]
     },
     "execution_count": 3,
     "metadata": {},
     "output_type": "execute_result"
    }
   ],
   "source": [
    "x_train.shape, y_train.shape"
   ]
  },
  {
   "cell_type": "code",
   "execution_count": 4,
   "metadata": {},
   "outputs": [
    {
     "name": "stdout",
     "output_type": "stream",
     "text": [
      "    |   Population Average    |             Best Individual              |\n",
      "---- ------------------------- ------------------------------------------ ----------\n",
      " Gen   Length          Fitness   Length          Fitness      OOB Fitness  Time Left\n",
      "   0    10.79        0.0246564        6         0.200025         0.166857      1.80m\n",
      "   1     8.08        0.0590649        8         0.200311         0.165203     42.39s\n",
      "   2     6.60        0.0849335        8         0.211747           0.1898     41.48s\n",
      "   3     6.91        0.0971736        8         0.215621          0.15506     41.18s\n",
      "   4     6.59        0.0996789       10         0.218169          0.13404     38.75s\n",
      "   5     6.44         0.101717        9         0.223296        0.0823432     32.30s\n",
      "   6     7.37         0.111985       11         0.223778        0.0855637     30.71s\n",
      "   7     9.16         0.125516       14         0.226036        0.0891304     28.49s\n",
      "   8    10.41         0.130991       15         0.227853        0.0746904     25.73s\n",
      "   9    10.46         0.127158       15         0.227471        0.0894429     23.38s\n",
      "  10    11.13         0.132179       17         0.227645        0.0739704     21.06s\n",
      "  11    11.03         0.133926        8          0.22747        0.0446669     19.44s\n",
      "  12    11.13         0.137513       16         0.225941        0.0915202     16.79s\n",
      "  13    11.16         0.141148       18         0.229106         0.253631     14.72s\n",
      "  14    11.32         0.140228       20         0.238827         0.168066     12.56s\n",
      "  15    12.63         0.139427       12         0.242726         0.127513      9.65s\n",
      "  16    15.89         0.143061       12         0.244787         0.110518      7.74s\n",
      "  17    16.74         0.142859       12          0.24561         0.107103      5.38s\n",
      "  18    14.87         0.138162       17         0.245945         0.103315      2.79s\n",
      "  19    14.32         0.137672       12         0.248626         0.080883      0.00s\n"
     ]
    }
   ],
   "source": [
    "func = ['add', 'sub', 'mul', 'div', 'sqrt', 'log', 'abs', 'neg', 'inv', 'max', 'min']\n",
    "\n",
    "st_gplearn = SymbolicTransformer(\n",
    "    generations=20, \n",
    "    population_size=2000,\n",
    "    hall_of_fame=100,\n",
    "    n_components=10,\n",
    "    function_set=func,\n",
    "    parsimony_coefficient=0.0005,\n",
    "    max_samples=0.9,\n",
    "    verbose=1,\n",
    "    random_state=0,\n",
    "    n_jobs=4\n",
    "    )\n",
    "\n",
    "st_gplearn.fit(x_train, y_train)\n",
    "best_prog_dict = {}\n",
    "best_programs = st_gplearn._best_programs\n",
    "\n",
    "for bp in best_programs:\n",
    "    name = 'alpha_' + str(best_programs.index(bp) + 1)\n",
    "    best_prog_dict[name] = {\n",
    "        'fitness': bp.fitness_,\n",
    "        'expression': str(bp),\n",
    "        'length': bp.length_,\n",
    "        'depth': bp.depth_,\n",
    "    }\n",
    "\n",
    "df_programs = pd.DataFrame(best_prog_dict).T\n",
    "df_programs.sort_values(by='fitness', ascending=False, inplace=True)\n",
    "df_programs.drop_duplicates(subset=['expression'], keep='first', inplace=True)"
   ]
  },
  {
   "cell_type": "code",
   "execution_count": 5,
   "metadata": {},
   "outputs": [
    {
     "data": {
      "text/html": [
       "<div>\n",
       "<style scoped>\n",
       "    .dataframe tbody tr th:only-of-type {\n",
       "        vertical-align: middle;\n",
       "    }\n",
       "\n",
       "    .dataframe tbody tr th {\n",
       "        vertical-align: top;\n",
       "    }\n",
       "\n",
       "    .dataframe thead th {\n",
       "        text-align: right;\n",
       "    }\n",
       "</style>\n",
       "<table border=\"1\" class=\"dataframe\">\n",
       "  <thead>\n",
       "    <tr style=\"text-align: right;\">\n",
       "      <th></th>\n",
       "      <th>fitness</th>\n",
       "      <th>expression</th>\n",
       "      <th>length</th>\n",
       "      <th>depth</th>\n",
       "    </tr>\n",
       "  </thead>\n",
       "  <tbody>\n",
       "    <tr>\n",
       "      <th>alpha_1</th>\n",
       "      <td>0.242626</td>\n",
       "      <td>add(X5, sub(div(sub(sub(X11, X13), X13), abs(X...</td>\n",
       "      <td>12</td>\n",
       "      <td>5</td>\n",
       "    </tr>\n",
       "    <tr>\n",
       "      <th>alpha_2</th>\n",
       "      <td>0.239212</td>\n",
       "      <td>add(abs(X5), sub(add(abs(X5), sub(div(sub(sub(...</td>\n",
       "      <td>18</td>\n",
       "      <td>7</td>\n",
       "    </tr>\n",
       "    <tr>\n",
       "      <th>alpha_3</th>\n",
       "      <td>0.236697</td>\n",
       "      <td>div(sub(sub(add(X5, sub(X11, X13)), X13), X13)...</td>\n",
       "      <td>12</td>\n",
       "      <td>5</td>\n",
       "    </tr>\n",
       "    <tr>\n",
       "      <th>alpha_5</th>\n",
       "      <td>0.22775</td>\n",
       "      <td>add(abs(X5), sub(add(X5, sub(div(sub(sub(X11, ...</td>\n",
       "      <td>17</td>\n",
       "      <td>7</td>\n",
       "    </tr>\n",
       "    <tr>\n",
       "      <th>alpha_10</th>\n",
       "      <td>0.226116</td>\n",
       "      <td>div(sub(sub(add(abs(X5), sub(X11, X13)), X13),...</td>\n",
       "      <td>18</td>\n",
       "      <td>5</td>\n",
       "    </tr>\n",
       "    <tr>\n",
       "      <th>alpha_9</th>\n",
       "      <td>0.22479</td>\n",
       "      <td>add(X5, sub(div(sub(add(add(X5, sub(X11, X13))...</td>\n",
       "      <td>21</td>\n",
       "      <td>7</td>\n",
       "    </tr>\n",
       "    <tr>\n",
       "      <th>alpha_6</th>\n",
       "      <td>0.223931</td>\n",
       "      <td>add(X5, sub(add(abs(abs(X5)), sub(add(abs(X9),...</td>\n",
       "      <td>24</td>\n",
       "      <td>9</td>\n",
       "    </tr>\n",
       "    <tr>\n",
       "      <th>alpha_7</th>\n",
       "      <td>0.22344</td>\n",
       "      <td>add(X5, sub(div(sub(sub(add(abs(X5), sub(X11, ...</td>\n",
       "      <td>24</td>\n",
       "      <td>8</td>\n",
       "    </tr>\n",
       "    <tr>\n",
       "      <th>alpha_8</th>\n",
       "      <td>0.223356</td>\n",
       "      <td>add(X5, sub(div(sub(sub(add(sub(sub(X11, X13),...</td>\n",
       "      <td>24</td>\n",
       "      <td>9</td>\n",
       "    </tr>\n",
       "  </tbody>\n",
       "</table>\n",
       "</div>"
      ],
      "text/plain": [
       "           fitness                                         expression length  \\\n",
       "alpha_1   0.242626  add(X5, sub(div(sub(sub(X11, X13), X13), abs(X...     12   \n",
       "alpha_2   0.239212  add(abs(X5), sub(add(abs(X5), sub(div(sub(sub(...     18   \n",
       "alpha_3   0.236697  div(sub(sub(add(X5, sub(X11, X13)), X13), X13)...     12   \n",
       "alpha_5    0.22775  add(abs(X5), sub(add(X5, sub(div(sub(sub(X11, ...     17   \n",
       "alpha_10  0.226116  div(sub(sub(add(abs(X5), sub(X11, X13)), X13),...     18   \n",
       "alpha_9    0.22479  add(X5, sub(div(sub(add(add(X5, sub(X11, X13))...     21   \n",
       "alpha_6   0.223931  add(X5, sub(add(abs(abs(X5)), sub(add(abs(X9),...     24   \n",
       "alpha_7    0.22344  add(X5, sub(div(sub(sub(add(abs(X5), sub(X11, ...     24   \n",
       "alpha_8   0.223356  add(X5, sub(div(sub(sub(add(sub(sub(X11, X13),...     24   \n",
       "\n",
       "         depth  \n",
       "alpha_1      5  \n",
       "alpha_2      7  \n",
       "alpha_3      5  \n",
       "alpha_5      7  \n",
       "alpha_10     5  \n",
       "alpha_9      7  \n",
       "alpha_6      9  \n",
       "alpha_7      8  \n",
       "alpha_8      9  "
      ]
     },
     "execution_count": 5,
     "metadata": {},
     "output_type": "execute_result"
    }
   ],
   "source": [
    "df_programs"
   ]
  },
  {
   "cell_type": "code",
   "execution_count": 48,
   "metadata": {},
   "outputs": [
    {
     "data": {
      "text/plain": [
       "'add(X5, sub(add(abs(abs(X5)), sub(add(abs(X9), sub(div(sub(max(X11, X13), abs(X5)), abs(X9)), X13)), X13)), X13))'"
      ]
     },
     "execution_count": 48,
     "metadata": {},
     "output_type": "execute_result"
    }
   ],
   "source": [
    "df_programs.loc['alpha_6', 'expression']"
   ]
  },
  {
   "cell_type": "code",
   "execution_count": 21,
   "metadata": {},
   "outputs": [],
   "source": [
    "converter = {\n",
    "    'sub': lambda x, y : x - y,\n",
    "    'div': lambda x, y : x/y,\n",
    "    'mul': lambda x, y : x*y,\n",
    "    'add': lambda x, y : x + y,\n",
    "    'neg': lambda x    : -x,\n",
    "    'pow': lambda x, y : x**y,\n",
    "    'abs': lambda x    : abs(x),\n",
    "    'max': lambda x, y : max(x, y),\n",
    "    'min': lambda x, y : min(x, y),\n",
    "}"
   ]
  },
  {
   "cell_type": "code",
   "execution_count": 20,
   "metadata": {},
   "outputs": [
    {
     "data": {
      "text/plain": [
       "Index(['stock_id', 'date_id', 'seconds_in_bucket', 'imbalance_size',\n",
       "       'imbalance_buy_sell_flag', 'reference_price', 'matched_size',\n",
       "       'far_price', 'near_price', 'bid_price', 'bid_size', 'ask_price',\n",
       "       'ask_size', 'wap', 'time_id'],\n",
       "      dtype='object')"
      ]
     },
     "execution_count": 20,
     "metadata": {},
     "output_type": "execute_result"
    }
   ],
   "source": [
    "x_feature_labels = df[[col for col in df.columns if col not in ['target', 'row_id']]].columns\n",
    "\n",
    "x_feature_labels"
   ]
  },
  {
   "cell_type": "code",
   "execution_count": null,
   "metadata": {},
   "outputs": [],
   "source": [
    "# get the variables used in the expression\n",
    "for row in df_programs.iterrows():\n",
    "    expr = sympy.sympify(row[1]['expression'], locals=converter)\n",
    "    variables = list(expr.free_symbols)\n",
    "    for var in variables:\n",
    "        expr = expr.subs(var, x_feature_labels[int(str(var)[1:])])\n",
    "    \n",
    "    print(row[1].name, expr)\n"
   ]
  },
  {
   "cell_type": "code",
   "execution_count": 51,
   "metadata": {},
   "outputs": [],
   "source": [
    "def expr2equation(expr_str, label_names, converter):\n",
    "    expr = sympy.sympify(expr_str, locals=converter)\n",
    "    variables = list(expr.free_symbols)\n",
    "    for var in variables:\n",
    "        expr = expr.subs(var, label_names[int(str(var)[1:])])\n",
    "\n",
    "    return expr"
   ]
  },
  {
   "cell_type": "code",
   "execution_count": 54,
   "metadata": {},
   "outputs": [
    {
     "data": {
      "text/latex": [
       "$\\displaystyle reference_{price} - wap + \\frac{ask_{price} - 2 wap}{\\left|{bid_{price}}\\right|}$"
      ],
      "text/plain": [
       "reference_price - wap + (ask_price - 2*wap)/Abs(bid_price)"
      ]
     },
     "execution_count": 54,
     "metadata": {},
     "output_type": "execute_result"
    }
   ],
   "source": [
    "expr2equation(df_programs.loc['alpha_1', 'expression'], x_feature_labels, converter)"
   ]
  },
  {
   "cell_type": "code",
   "execution_count": 55,
   "metadata": {},
   "outputs": [
    {
     "data": {
      "text/latex": [
       "$\\displaystyle - 2 wap + \\frac{ask_{price} - reference_{price} - wap}{\\left|{bid_{price}}\\right|} + 2 \\left|{reference_{price}}\\right|$"
      ],
      "text/plain": [
       "-2*wap + (ask_price - reference_price - wap)/Abs(bid_price) + 2*Abs(reference_price)"
      ]
     },
     "execution_count": 55,
     "metadata": {},
     "output_type": "execute_result"
    }
   ],
   "source": [
    "expr2equation(df_programs.loc['alpha_2', 'expression'], x_feature_labels, converter)"
   ]
  },
  {
   "cell_type": "code",
   "execution_count": 56,
   "metadata": {},
   "outputs": [
    {
     "data": {
      "text/latex": [
       "$\\displaystyle \\frac{ask_{price} + reference_{price} - 3 wap}{\\left|{bid_{price}}\\right|}$"
      ],
      "text/plain": [
       "(ask_price + reference_price - 3*wap)/Abs(bid_price)"
      ]
     },
     "execution_count": 56,
     "metadata": {},
     "output_type": "execute_result"
    }
   ],
   "source": [
    "expr2equation(df_programs.loc['alpha_3', 'expression'], x_feature_labels, converter)"
   ]
  },
  {
   "cell_type": "code",
   "execution_count": 57,
   "metadata": {},
   "outputs": [
    {
     "data": {
      "text/latex": [
       "$\\displaystyle reference_{price} - 2 wap + \\frac{ask_{price} - 2 wap}{\\left|{bid_{price}}\\right|} + \\left|{reference_{price}}\\right|$"
      ],
      "text/plain": [
       "reference_price - 2*wap + (ask_price - 2*wap)/Abs(bid_price) + Abs(reference_price)"
      ]
     },
     "execution_count": 57,
     "metadata": {},
     "output_type": "execute_result"
    }
   ],
   "source": [
    "expr2equation(df_programs.loc['alpha_5', 'expression'], x_feature_labels, converter)"
   ]
  },
  {
   "cell_type": "code",
   "execution_count": 58,
   "metadata": {},
   "outputs": [
    {
     "data": {
      "text/latex": [
       "$\\displaystyle \\frac{ask_{price} - 2 wap + \\left|{reference_{price}}\\right| - \\left|{ask_{price} - 2 wap}\\right|}{\\left|{bid_{price}}\\right|}$"
      ],
      "text/plain": [
       "(ask_price - 2*wap + Abs(reference_price) - Abs(ask_price - 2*wap))/Abs(bid_price)"
      ]
     },
     "execution_count": 58,
     "metadata": {},
     "output_type": "execute_result"
    }
   ],
   "source": [
    "expr2equation(df_programs.loc['alpha_10', 'expression'], x_feature_labels, converter)"
   ]
  },
  {
   "cell_type": "code",
   "execution_count": 59,
   "metadata": {},
   "outputs": [
    {
     "data": {
      "text/latex": [
       "$\\displaystyle reference_{price} - wap + \\frac{2 ask_{price} + reference_{price} - 3 wap - \\left|{reference_{price}}\\right|}{\\left|{bid_{price}}\\right|}$"
      ],
      "text/plain": [
       "reference_price - wap + (2*ask_price + reference_price - 3*wap - Abs(reference_price))/Abs(bid_price)"
      ]
     },
     "execution_count": 59,
     "metadata": {},
     "output_type": "execute_result"
    }
   ],
   "source": [
    "expr2equation(df_programs.loc['alpha_9', 'expression'], x_feature_labels, converter)"
   ]
  },
  {
   "cell_type": "code",
   "execution_count": 60,
   "metadata": {},
   "outputs": [
    {
     "data": {
      "text/latex": [
       "$\\displaystyle reference_{price} - wap + \\frac{ask_{price} - 2 wap + \\left|{reference_{price}}\\right| - \\left|{ask_{price} - 3 wap}\\right|}{\\left|{bid_{price}}\\right|}$"
      ],
      "text/plain": [
       "reference_price - wap + (ask_price - 2*wap + Abs(reference_price) - Abs(ask_price - 3*wap))/Abs(bid_price)"
      ]
     },
     "execution_count": 60,
     "metadata": {},
     "output_type": "execute_result"
    }
   ],
   "source": [
    "expr2equation(df_programs.loc['alpha_7', 'expression'], x_feature_labels, converter)"
   ]
  },
  {
   "cell_type": "code",
   "execution_count": 61,
   "metadata": {},
   "outputs": [
    {
     "data": {
      "text/latex": [
       "$\\displaystyle reference_{price} - wap + \\frac{2 ask_{price} - 4 wap + \\left|{bid_{price}}\\right| + \\left|{reference_{price}}\\right|}{\\left|{bid_{price}}\\right|}$"
      ],
      "text/plain": [
       "reference_price - wap + (2*ask_price - 4*wap + Abs(bid_price) + Abs(reference_price))/Abs(bid_price)"
      ]
     },
     "execution_count": 61,
     "metadata": {},
     "output_type": "execute_result"
    }
   ],
   "source": [
    "expr2equation(df_programs.loc['alpha_8', 'expression'], x_feature_labels, converter)"
   ]
  }
 ],
 "metadata": {
  "kernelspec": {
   "display_name": "kaggle",
   "language": "python",
   "name": "python3"
  },
  "language_info": {
   "codemirror_mode": {
    "name": "ipython",
    "version": 3
   },
   "file_extension": ".py",
   "mimetype": "text/x-python",
   "name": "python",
   "nbconvert_exporter": "python",
   "pygments_lexer": "ipython3",
   "version": "3.10.13"
  }
 },
 "nbformat": 4,
 "nbformat_minor": 2
}
